{
 "cells": [
  {
   "cell_type": "code",
   "execution_count": 49,
   "metadata": {},
   "outputs": [],
   "source": [
    "import numpy as np\n",
    "import pandas as pd\n",
    "import sklearn.datasets\n",
    "from sklearn.model_selection import train_test_split"
   ]
  },
  {
   "cell_type": "code",
   "execution_count": 50,
   "metadata": {},
   "outputs": [
    {
     "name": "stdout",
     "output_type": "stream",
     "text": [
      "{'data': array([[1.799e+01, 1.038e+01, 1.228e+02, ..., 2.654e-01, 4.601e-01,\n",
      "        1.189e-01],\n",
      "       [2.057e+01, 1.777e+01, 1.329e+02, ..., 1.860e-01, 2.750e-01,\n",
      "        8.902e-02],\n",
      "       [1.969e+01, 2.125e+01, 1.300e+02, ..., 2.430e-01, 3.613e-01,\n",
      "        8.758e-02],\n",
      "       ...,\n",
      "       [1.660e+01, 2.808e+01, 1.083e+02, ..., 1.418e-01, 2.218e-01,\n",
      "        7.820e-02],\n",
      "       [2.060e+01, 2.933e+01, 1.401e+02, ..., 2.650e-01, 4.087e-01,\n",
      "        1.240e-01],\n",
      "       [7.760e+00, 2.454e+01, 4.792e+01, ..., 0.000e+00, 2.871e-01,\n",
      "        7.039e-02]]), 'target': array([0, 0, 0, 0, 0, 0, 0, 0, 0, 0, 0, 0, 0, 0, 0, 0, 0, 0, 0, 1, 1, 1,\n",
      "       0, 0, 0, 0, 0, 0, 0, 0, 0, 0, 0, 0, 0, 0, 0, 1, 0, 0, 0, 0, 0, 0,\n",
      "       0, 0, 1, 0, 1, 1, 1, 1, 1, 0, 0, 1, 0, 0, 1, 1, 1, 1, 0, 1, 0, 0,\n",
      "       1, 1, 1, 1, 0, 1, 0, 0, 1, 0, 1, 0, 0, 1, 1, 1, 0, 0, 1, 0, 0, 0,\n",
      "       1, 1, 1, 0, 1, 1, 0, 0, 1, 1, 1, 0, 0, 1, 1, 1, 1, 0, 1, 1, 0, 1,\n",
      "       1, 1, 1, 1, 1, 1, 1, 0, 0, 0, 1, 0, 0, 1, 1, 1, 0, 0, 1, 0, 1, 0,\n",
      "       0, 1, 0, 0, 1, 1, 0, 1, 1, 0, 1, 1, 1, 1, 0, 1, 1, 1, 1, 1, 1, 1,\n",
      "       1, 1, 0, 1, 1, 1, 1, 0, 0, 1, 0, 1, 1, 0, 0, 1, 1, 0, 0, 1, 1, 1,\n",
      "       1, 0, 1, 1, 0, 0, 0, 1, 0, 1, 0, 1, 1, 1, 0, 1, 1, 0, 0, 1, 0, 0,\n",
      "       0, 0, 1, 0, 0, 0, 1, 0, 1, 0, 1, 1, 0, 1, 0, 0, 0, 0, 1, 1, 0, 0,\n",
      "       1, 1, 1, 0, 1, 1, 1, 1, 1, 0, 0, 1, 1, 0, 1, 1, 0, 0, 1, 0, 1, 1,\n",
      "       1, 1, 0, 1, 1, 1, 1, 1, 0, 1, 0, 0, 0, 0, 0, 0, 0, 0, 0, 0, 0, 0,\n",
      "       0, 0, 1, 1, 1, 1, 1, 1, 0, 1, 0, 1, 1, 0, 1, 1, 0, 1, 0, 0, 1, 1,\n",
      "       1, 1, 1, 1, 1, 1, 1, 1, 1, 1, 1, 0, 1, 1, 0, 1, 0, 1, 1, 1, 1, 1,\n",
      "       1, 1, 1, 1, 1, 1, 1, 1, 1, 0, 1, 1, 1, 0, 1, 0, 1, 1, 1, 1, 0, 0,\n",
      "       0, 1, 1, 1, 1, 0, 1, 0, 1, 0, 1, 1, 1, 0, 1, 1, 1, 1, 1, 1, 1, 0,\n",
      "       0, 0, 1, 1, 1, 1, 1, 1, 1, 1, 1, 1, 1, 0, 0, 1, 0, 0, 0, 1, 0, 0,\n",
      "       1, 1, 1, 1, 1, 0, 1, 1, 1, 1, 1, 0, 1, 1, 1, 0, 1, 1, 0, 0, 1, 1,\n",
      "       1, 1, 1, 1, 0, 1, 1, 1, 1, 1, 1, 1, 0, 1, 1, 1, 1, 1, 0, 1, 1, 0,\n",
      "       1, 1, 1, 1, 1, 1, 1, 1, 1, 1, 1, 1, 0, 1, 0, 0, 1, 0, 1, 1, 1, 1,\n",
      "       1, 0, 1, 1, 0, 1, 0, 1, 1, 0, 1, 0, 1, 1, 1, 1, 1, 1, 1, 1, 0, 0,\n",
      "       1, 1, 1, 1, 1, 1, 0, 1, 1, 1, 1, 1, 1, 1, 1, 1, 1, 0, 1, 1, 1, 1,\n",
      "       1, 1, 1, 0, 1, 0, 1, 1, 0, 1, 1, 1, 1, 1, 0, 0, 1, 0, 1, 0, 1, 1,\n",
      "       1, 1, 1, 0, 1, 1, 0, 1, 0, 1, 0, 0, 1, 1, 1, 0, 1, 1, 1, 1, 1, 1,\n",
      "       1, 1, 1, 1, 1, 0, 1, 0, 0, 1, 1, 1, 1, 1, 1, 1, 1, 1, 1, 1, 1, 1,\n",
      "       1, 1, 1, 1, 1, 1, 1, 1, 1, 1, 1, 1, 0, 0, 0, 0, 0, 0, 1]), 'frame': None, 'target_names': array(['malignant', 'benign'], dtype='<U9'), 'DESCR': '.. _breast_cancer_dataset:\\n\\nBreast cancer wisconsin (diagnostic) dataset\\n--------------------------------------------\\n\\n**Data Set Characteristics:**\\n\\n:Number of Instances: 569\\n\\n:Number of Attributes: 30 numeric, predictive attributes and the class\\n\\n:Attribute Information:\\n    - radius (mean of distances from center to points on the perimeter)\\n    - texture (standard deviation of gray-scale values)\\n    - perimeter\\n    - area\\n    - smoothness (local variation in radius lengths)\\n    - compactness (perimeter^2 / area - 1.0)\\n    - concavity (severity of concave portions of the contour)\\n    - concave points (number of concave portions of the contour)\\n    - symmetry\\n    - fractal dimension (\"coastline approximation\" - 1)\\n\\n    The mean, standard error, and \"worst\" or largest (mean of the three\\n    worst/largest values) of these features were computed for each image,\\n    resulting in 30 features.  For instance, field 0 is Mean Radius, field\\n    10 is Radius SE, field 20 is Worst Radius.\\n\\n    - class:\\n            - WDBC-Malignant\\n            - WDBC-Benign\\n\\n:Summary Statistics:\\n\\n===================================== ====== ======\\n                                        Min    Max\\n===================================== ====== ======\\nradius (mean):                        6.981  28.11\\ntexture (mean):                       9.71   39.28\\nperimeter (mean):                     43.79  188.5\\narea (mean):                          143.5  2501.0\\nsmoothness (mean):                    0.053  0.163\\ncompactness (mean):                   0.019  0.345\\nconcavity (mean):                     0.0    0.427\\nconcave points (mean):                0.0    0.201\\nsymmetry (mean):                      0.106  0.304\\nfractal dimension (mean):             0.05   0.097\\nradius (standard error):              0.112  2.873\\ntexture (standard error):             0.36   4.885\\nperimeter (standard error):           0.757  21.98\\narea (standard error):                6.802  542.2\\nsmoothness (standard error):          0.002  0.031\\ncompactness (standard error):         0.002  0.135\\nconcavity (standard error):           0.0    0.396\\nconcave points (standard error):      0.0    0.053\\nsymmetry (standard error):            0.008  0.079\\nfractal dimension (standard error):   0.001  0.03\\nradius (worst):                       7.93   36.04\\ntexture (worst):                      12.02  49.54\\nperimeter (worst):                    50.41  251.2\\narea (worst):                         185.2  4254.0\\nsmoothness (worst):                   0.071  0.223\\ncompactness (worst):                  0.027  1.058\\nconcavity (worst):                    0.0    1.252\\nconcave points (worst):               0.0    0.291\\nsymmetry (worst):                     0.156  0.664\\nfractal dimension (worst):            0.055  0.208\\n===================================== ====== ======\\n\\n:Missing Attribute Values: None\\n\\n:Class Distribution: 212 - Malignant, 357 - Benign\\n\\n:Creator:  Dr. William H. Wolberg, W. Nick Street, Olvi L. Mangasarian\\n\\n:Donor: Nick Street\\n\\n:Date: November, 1995\\n\\nThis is a copy of UCI ML Breast Cancer Wisconsin (Diagnostic) datasets.\\nhttps://goo.gl/U2Uwz2\\n\\nFeatures are computed from a digitized image of a fine needle\\naspirate (FNA) of a breast mass.  They describe\\ncharacteristics of the cell nuclei present in the image.\\n\\nSeparating plane described above was obtained using\\nMultisurface Method-Tree (MSM-T) [K. P. Bennett, \"Decision Tree\\nConstruction Via Linear Programming.\" Proceedings of the 4th\\nMidwest Artificial Intelligence and Cognitive Science Society,\\npp. 97-101, 1992], a classification method which uses linear\\nprogramming to construct a decision tree.  Relevant features\\nwere selected using an exhaustive search in the space of 1-4\\nfeatures and 1-3 separating planes.\\n\\nThe actual linear program used to obtain the separating plane\\nin the 3-dimensional space is that described in:\\n[K. P. Bennett and O. L. Mangasarian: \"Robust Linear\\nProgramming Discrimination of Two Linearly Inseparable Sets\",\\nOptimization Methods and Software 1, 1992, 23-34].\\n\\nThis database is also available through the UW CS ftp server:\\n\\nftp ftp.cs.wisc.edu\\ncd math-prog/cpo-dataset/machine-learn/WDBC/\\n\\n.. dropdown:: References\\n\\n  - W.N. Street, W.H. Wolberg and O.L. Mangasarian. Nuclear feature extraction\\n    for breast tumor diagnosis. IS&T/SPIE 1993 International Symposium on\\n    Electronic Imaging: Science and Technology, volume 1905, pages 861-870,\\n    San Jose, CA, 1993.\\n  - O.L. Mangasarian, W.N. Street and W.H. Wolberg. Breast cancer diagnosis and\\n    prognosis via linear programming. Operations Research, 43(4), pages 570-577,\\n    July-August 1995.\\n  - W.H. Wolberg, W.N. Street, and O.L. Mangasarian. Machine learning techniques\\n    to diagnose breast cancer from fine-needle aspirates. Cancer Letters 77 (1994)\\n    163-171.\\n', 'feature_names': array(['mean radius', 'mean texture', 'mean perimeter', 'mean area',\n",
      "       'mean smoothness', 'mean compactness', 'mean concavity',\n",
      "       'mean concave points', 'mean symmetry', 'mean fractal dimension',\n",
      "       'radius error', 'texture error', 'perimeter error', 'area error',\n",
      "       'smoothness error', 'compactness error', 'concavity error',\n",
      "       'concave points error', 'symmetry error',\n",
      "       'fractal dimension error', 'worst radius', 'worst texture',\n",
      "       'worst perimeter', 'worst area', 'worst smoothness',\n",
      "       'worst compactness', 'worst concavity', 'worst concave points',\n",
      "       'worst symmetry', 'worst fractal dimension'], dtype='<U23'), 'filename': 'breast_cancer.csv', 'data_module': 'sklearn.datasets.data'}\n"
     ]
    }
   ],
   "source": [
    "dataset=sklearn.datasets.load_breast_cancer()\n",
    "data=pd.DataFrame(dataset.data,columns=dataset.feature_names)\n",
    "print(dataset)"
   ]
  },
  {
   "cell_type": "code",
   "execution_count": 51,
   "metadata": {},
   "outputs": [],
   "source": [
    "X=data.to_numpy()\n",
    "data_label=pd.DataFrame(dataset.target)\n",
    "Y=data_label.to_numpy()\n",
    "X_train,X_test,Y_train,Y_test=train_test_split(X,Y,test_size=0.20,random_state=42)"
   ]
  },
  {
   "cell_type": "code",
   "execution_count": 52,
   "metadata": {},
   "outputs": [],
   "source": [
    "def sig(x):\n",
    "    x = np.clip(x, -500, 500)\n",
    "    return 1/(1+np.exp(-x))\n",
    "def relu(x):\n",
    "    return np.maximum(0, x)\n",
    "def derrelu(x):\n",
    "    return np.where(x > 0, 1, 0)"
   ]
  },
  {
   "cell_type": "code",
   "execution_count": 53,
   "metadata": {},
   "outputs": [],
   "source": [
    "def initializeparameters(n0,n1,n2):\n",
    "    W1=np.random.random((n1,n0))\n",
    "    B1 = np.zeros((n1, 1))\n",
    "    W2=np.random.random((n2,n1))\n",
    "    B2 = np.zeros((n2, 1))\n",
    "    parameters={\n",
    "        'W1' :W1,\n",
    "        'B1' :B1,\n",
    "        'W2' :W2,\n",
    "        'B2' :B2\n",
    "    }\n",
    "    return parameters\n",
    "def forwardpropogation(X,parameters):\n",
    "    W1=parameters['W1']\n",
    "    W2=parameters['W2']\n",
    "    B1=parameters['B1']\n",
    "    B2=parameters['B2']\n",
    "    Z1=(np.dot(W1,X.T)+B1).T\n",
    "    A1=relu(Z1)\n",
    "    Z2=(np.dot(W2,A1.T)+B2).T\n",
    "    A2=sig(Z2)\n",
    "    A2 = np.clip(A2, 1e-10, 1 - 1e-10)\n",
    "    A2 = np.nan_to_num(A2, nan=1e-10)\n",
    "    forward_cache={\n",
    "        'Z1' :Z1,\n",
    "        'A1' :A1,\n",
    "        'Z2' :Z2,\n",
    "        'A2' :A2\n",
    "\n",
    "    }\n",
    "    return forward_cache\n",
    "def costfunction(Y,A2):\n",
    "    m=Y.shape[0]\n",
    "    cost = -(1/m)*np.sum(Y*np.log(A2)+(1-Y)*np.log(1-A2))\n",
    "    return cost\n",
    "def backwardpropagation(X,Y,parameters,forward_cache):\n",
    "    W1=parameters['W1']\n",
    "    W2=parameters['W2']\n",
    "    B1=parameters['B1']\n",
    "    B2=parameters['B2']\n",
    "    Z1=forward_cache['Z1']\n",
    "    A1=forward_cache['A1']\n",
    "    Z2=forward_cache['Z2']\n",
    "    A2=forward_cache['A2']\n",
    "    m=Y.shape[0]\n",
    "    dZ2=A2-Y\n",
    "    dW2=(1/m)*np.dot(dZ2.T,A1)\n",
    "    dB2=(1/m)*np.sum(dZ2,axis=0,keepdims=True).T\n",
    "    dA1=np.dot(dZ2,W2)\n",
    "    dZ1=dA1*derrelu(Z1)\n",
    "    dW1=(1/m)*np.dot(dZ1.T,X)\n",
    "    dB1=(1/m)*np.sum(dZ1,axis=0,keepdims=True).T\n",
    "    gradients={\n",
    "        'dW1' :dW1,\n",
    "        'dB1' :dB1,\n",
    "        'dW2' :dW2,\n",
    "        'dB2' :dB2\n",
    "    }\n",
    "    return gradients\n",
    "def updateparameters(parameters,gradients,learningrate):\n",
    "    W1=parameters['W1']\n",
    "    W2=parameters['W2']\n",
    "    B1=parameters['B1']\n",
    "    B2=parameters['B2']\n",
    "    dW1=gradients['dW1']\n",
    "    dW2=gradients['dW2']\n",
    "    dB1=gradients['dB1']\n",
    "    dB2=gradients['dB2']\n",
    "    W1-=learningrate*dW1\n",
    "    B1-=learningrate*dB1\n",
    "    W2-=learningrate*dW2\n",
    "    B2-=learningrate*dB2\n",
    "    parameters={\n",
    "        'W1' :W1,\n",
    "        'B1' :B1,\n",
    "        'W2' :W2,\n",
    "        'B2' :B2\n",
    "    }\n",
    "    return parameters\n",
    "def model(X,Y,n1,learningrate,iterations):\n",
    "    n0=X.shape[1]\n",
    "    n2=Y.shape[1]\n",
    "    costlist=[]\n",
    "    parameters=initializeparameters(n0,n1,n2)\n",
    "    for i in range(iterations):\n",
    "        forward_cache=forwardpropogation(X,parameters)\n",
    "        cost=costfunction(Y,forward_cache['A2'])\n",
    "        gradients=backwardpropagation(X,Y,parameters,forward_cache)\n",
    "        parameters=updateparameters(parameters,gradients,learningrate)\n",
    "        if(i%(iterations/10)==0):\n",
    "            costlist.append(cost)\n",
    "            print('cost after ',i,'th iterations is ',cost)\n",
    "    return parameters,costlist"
   ]
  },
  {
   "cell_type": "code",
   "execution_count": 54,
   "metadata": {},
   "outputs": [
    {
     "name": "stdout",
     "output_type": "stream",
     "text": [
      "cost after  0 th iterations is  8.552458886165748\n",
      "cost after  100 th iterations is  0.6626104674815175\n",
      "cost after  200 th iterations is  0.6599790086445249\n",
      "cost after  300 th iterations is  0.6597368723119227\n",
      "cost after  400 th iterations is  0.6597140193114683\n",
      "cost after  500 th iterations is  0.6597118445709623\n",
      "cost after  600 th iterations is  0.6597116370825286\n",
      "cost after  700 th iterations is  0.6597116172705145\n",
      "cost after  800 th iterations is  0.6597116153782968\n",
      "cost after  900 th iterations is  0.6597116151975597\n"
     ]
    }
   ],
   "source": [
    "parameters,costlist=model(X_train,Y_train,2000,0.05,1000)"
   ]
  },
  {
   "cell_type": "code",
   "execution_count": 55,
   "metadata": {},
   "outputs": [
    {
     "name": "stdout",
     "output_type": "stream",
     "text": [
      "The accuracy of the model on training set is  62.86 %\n",
      "The accuracy of the model on testing set is  62.28 %\n"
     ]
    }
   ],
   "source": [
    "def accuracy(X,Y,parameters):\n",
    "    forward_cache=forwardpropogation(X,parameters)\n",
    "    A2=forward_cache['A2']\n",
    "    for i in range(0,A2.shape[0]):\n",
    "        if A2[i]<0.5:\n",
    "            A2[i]=0\n",
    "        else:\n",
    "            A2[i]=1\n",
    "    correct=0\n",
    "    for i in range(0,A2.shape[0]):\n",
    "        if(A2[i]==Y[i]):\n",
    "            correct+=1\n",
    "    return (correct/A2.shape[0])*100\n",
    "\n",
    "print('The accuracy of the model on training set is ',round(accuracy(X_train,Y_train,parameters),2),'%')\n",
    "print('The accuracy of the model on testing set is ',round(accuracy(X_test,Y_test,parameters),2),'%')"
   ]
  }
 ],
 "metadata": {
  "kernelspec": {
   "display_name": "Python 3",
   "language": "python",
   "name": "python3"
  },
  "language_info": {
   "codemirror_mode": {
    "name": "ipython",
    "version": 3
   },
   "file_extension": ".py",
   "mimetype": "text/x-python",
   "name": "python",
   "nbconvert_exporter": "python",
   "pygments_lexer": "ipython3",
   "version": "3.10.12"
  }
 },
 "nbformat": 4,
 "nbformat_minor": 2
}
