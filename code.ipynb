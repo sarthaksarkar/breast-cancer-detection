{
 "cells": [
  {
   "cell_type": "code",
   "execution_count": 69,
   "metadata": {},
   "outputs": [],
   "source": [
    "import numpy as np\n",
    "import pandas as pd\n",
    "import sklearn.datasets\n",
    "from sklearn.model_selection import train_test_split"
   ]
  },
  {
   "cell_type": "code",
   "execution_count": 70,
   "metadata": {},
   "outputs": [],
   "source": [
    "dataset=sklearn.datasets.load_breast_cancer()\n",
    "data=pd.DataFrame(dataset.data,columns=dataset.feature_names)"
   ]
  },
  {
   "cell_type": "code",
   "execution_count": 71,
   "metadata": {},
   "outputs": [],
   "source": [
    "X=data.to_numpy()\n",
    "data_label=pd.DataFrame(dataset.target)\n",
    "Y=data_label.to_numpy()\n",
    "X_train,X_test,Y_train,Y_test=train_test_split(X,Y,test_size=0.20,random_state=42)"
   ]
  },
  {
   "cell_type": "code",
   "execution_count": 72,
   "metadata": {},
   "outputs": [],
   "source": [
    "def sig(x):\n",
    "    x = np.clip(x, -500, 500)\n",
    "    return 1/(1+np.exp(-x))\n",
    "def relu(x):\n",
    "    return np.maximum(0, x)\n",
    "def derrelu(x):\n",
    "    return np.where(x > 0, 1, 0)"
   ]
  },
  {
   "cell_type": "code",
   "execution_count": 73,
   "metadata": {},
   "outputs": [],
   "source": [
    "def initializeparameters(n0,n1,n2):\n",
    "    W1=np.random.random((n1,n0))\n",
    "    B1 = np.zeros((n1, 1))\n",
    "    W2=np.random.random((n2,n1))\n",
    "    B2 = np.zeros((n2, 1))\n",
    "    parameters={\n",
    "        'W1' :W1,\n",
    "        'B1' :B1,\n",
    "        'W2' :W2,\n",
    "        'B2' :B2\n",
    "    }\n",
    "    return parameters\n",
    "def forwardpropogation(X,parameters):\n",
    "    W1=parameters['W1']\n",
    "    W2=parameters['W2']\n",
    "    B1=parameters['B1']\n",
    "    B2=parameters['B2']\n",
    "    Z1=(np.dot(W1,X.T)+B1).T\n",
    "    A1=relu(Z1)\n",
    "    Z2=(np.dot(W2,A1.T)+B2).T\n",
    "    A2=sig(Z2)\n",
    "    A2 = np.clip(A2, 1e-10, 1 - 1e-10)\n",
    "    A2 = np.nan_to_num(A2, nan=1e-10)\n",
    "    forward_cache={\n",
    "        'Z1' :Z1,\n",
    "        'A1' :A1,\n",
    "        'Z2' :Z2,\n",
    "        'A2' :A2\n",
    "\n",
    "    }\n",
    "    return forward_cache\n",
    "def costfunction(Y,A2):\n",
    "    m=Y.shape[0]\n",
    "    cost = -(1/m)*np.sum(Y*np.log(A2)+(1-Y)*np.log(1-A2))\n",
    "    return cost\n",
    "def backwardpropagation(X,Y,parameters,forward_cache):\n",
    "    W1=parameters['W1']\n",
    "    W2=parameters['W2']\n",
    "    B1=parameters['B1']\n",
    "    B2=parameters['B2']\n",
    "    Z1=forward_cache['Z1']\n",
    "    A1=forward_cache['A1']\n",
    "    Z2=forward_cache['Z2']\n",
    "    A2=forward_cache['A2']\n",
    "    m=Y.shape[0]\n",
    "    dZ2=A2-Y\n",
    "    dW2=(1/m)*np.dot(dZ2.T,A1)\n",
    "    dB2=(1/m)*np.sum(dZ2,axis=0,keepdims=True).T\n",
    "    dA1=np.dot(dZ2,W2)\n",
    "    dZ1=dA1*derrelu(Z1)\n",
    "    dW1=(1/m)*np.dot(dZ1.T,X)\n",
    "    dB1=(1/m)*np.sum(dZ1,axis=0,keepdims=True).T\n",
    "    gradients={\n",
    "        'dW1' :dW1,\n",
    "        'dB1' :dB1,\n",
    "        'dW2' :dW2,\n",
    "        'dB2' :dB2\n",
    "    }\n",
    "    return gradients\n",
    "def updateparameters(parameters,gradients,learningrate):\n",
    "    W1=parameters['W1']\n",
    "    W2=parameters['W2']\n",
    "    B1=parameters['B1']\n",
    "    B2=parameters['B2']\n",
    "    dW1=gradients['dW1']\n",
    "    dW2=gradients['dW2']\n",
    "    dB1=gradients['dB1']\n",
    "    dB2=gradients['dB2']\n",
    "    W1-=learningrate*dW1\n",
    "    B1-=learningrate*dB1\n",
    "    W2-=learningrate*dW2\n",
    "    B2-=learningrate*dB2\n",
    "    parameters={\n",
    "        'W1' :W1,\n",
    "        'B1' :B1,\n",
    "        'W2' :W2,\n",
    "        'B2' :B2\n",
    "    }\n",
    "    return parameters\n",
    "def model(X,Y,n1,learningrate,iterations):\n",
    "    n0=X.shape[1]\n",
    "    n2=Y.shape[1]\n",
    "    costlist=[]\n",
    "    parameters=initializeparameters(n0,n1,n2)\n",
    "    for i in range(iterations):\n",
    "        forward_cache=forwardpropogation(X,parameters)\n",
    "        cost=costfunction(Y,forward_cache['A2'])\n",
    "        gradients=backwardpropagation(X,Y,parameters,forward_cache)\n",
    "        parameters=updateparameters(parameters,gradients,learningrate)\n",
    "        if(i%(iterations/10)==0):\n",
    "            costlist.append(cost)\n",
    "            print('cost after ',i,'th iterations is ',cost)\n",
    "    return parameters,costlist"
   ]
  },
  {
   "cell_type": "code",
   "execution_count": 74,
   "metadata": {},
   "outputs": [
    {
     "name": "stdout",
     "output_type": "stream",
     "text": [
      "cost after  0 th iterations is  8.552458886165748\n",
      "cost after  10 th iterations is  0.6857851611897147\n",
      "cost after  20 th iterations is  0.6800674801779687\n",
      "cost after  30 th iterations is  0.6756179380546236\n",
      "cost after  40 th iterations is  0.6721524823724171\n",
      "cost after  50 th iterations is  0.669450918866742\n",
      "cost after  60 th iterations is  0.6673427298031416\n",
      "cost after  70 th iterations is  0.6656958881815364\n",
      "cost after  80 th iterations is  0.6644081257686386\n",
      "cost after  90 th iterations is  0.663400161031617\n"
     ]
    }
   ],
   "source": [
    "parameters,costlist=model(X_train,Y_train,1000,0.05,100)"
   ]
  },
  {
   "cell_type": "code",
   "execution_count": 75,
   "metadata": {},
   "outputs": [
    {
     "name": "stdout",
     "output_type": "stream",
     "text": [
      "The accuracy of the model on training set is  62.86 %\n",
      "The accuracy of the model on testing set is  62.28 %\n"
     ]
    }
   ],
   "source": [
    "def accuracy(X,Y,parameters):\n",
    "    forward_cache=forwardpropogation(X,parameters)\n",
    "    A2=forward_cache['A2']\n",
    "    for i in range(0,A2.shape[0]):\n",
    "        if A2[i]<0.5:\n",
    "            A2[i]=0\n",
    "        else:\n",
    "            A2[i]=1\n",
    "    correct=0\n",
    "    for i in range(0,A2.shape[0]):\n",
    "        if(A2[i]==Y[i]):\n",
    "            correct+=1\n",
    "    return (correct/A2.shape[0])*100\n",
    "\n",
    "print('The accuracy of the model on training set is ',round(accuracy(X_train,Y_train,parameters),2),'%')\n",
    "print('The accuracy of the model on testing set is ',round(accuracy(X_test,Y_test,parameters),2),'%')"
   ]
  }
 ],
 "metadata": {
  "kernelspec": {
   "display_name": "Python 3",
   "language": "python",
   "name": "python3"
  },
  "language_info": {
   "codemirror_mode": {
    "name": "ipython",
    "version": 3
   },
   "file_extension": ".py",
   "mimetype": "text/x-python",
   "name": "python",
   "nbconvert_exporter": "python",
   "pygments_lexer": "ipython3",
   "version": "3.10.12"
  }
 },
 "nbformat": 4,
 "nbformat_minor": 2
}
